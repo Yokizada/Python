{
 "cells": [
  {
   "cell_type": "code",
   "execution_count": 19,
   "id": "28a2fdf7",
   "metadata": {},
   "outputs": [
    {
     "name": "stdout",
     "output_type": "stream",
     "text": [
      "✔ Download and installation successful\n",
      "You can now load the package via spacy.load('en_core_web_sm')\n"
     ]
    }
   ],
   "source": [
    "from chatterbot import ChatBot\n",
    "from chatterbot.trainers import ListTrainer\n",
    "\n",
    "# isso aqui só precisa para corrigir o bug\n",
    "from spacy.cli import download\n",
    "\n",
    "download(\"en_core_web_sm\")\n",
    "\n",
    "class ENGSM:\n",
    "    ISO_639_1 = 'en_core_web_sm'\n",
    "\n"
   ]
  },
  {
   "cell_type": "code",
   "execution_count": 20,
   "id": "55b3b911",
   "metadata": {},
   "outputs": [
    {
     "name": "stdout",
     "output_type": "stream",
     "text": [
      "List Trainer: [####################] 100%\n"
     ]
    }
   ],
   "source": [
    "chatbot = ChatBot(\"Hana\", tagger_language=ENGSM)\n",
    "\n",
    "conversa = [\n",
    "    \"Oi\"\n",
    "    \"Olá, eu sou Hana, Inteligência Artificial para testes\"\n",
    "]\n",
    "Trainer = ListTrainer(chatbot)\n",
    "Trainer.train(conversa)"
   ]
  },
  {
   "cell_type": "code",
   "execution_count": 33,
   "id": "6c80b21b",
   "metadata": {},
   "outputs": [
    {
     "name": "stdout",
     "output_type": "stream",
     "text": [
      "Mande uma mensagem para o chatbot:oi\n",
      "a\n",
      "Mande uma mensagem para o chatbot:oi\n",
      "e ai, tranquilo?\n",
      "Mande uma mensagem para o chatbot:oi\n",
      "daora, algo mais?\n",
      "Mande uma mensagem para o chatbot:agua\n",
      "Comendo Pêra\n",
      "Mande uma mensagem para o chatbot:oi\n",
      "Tô estudando Python\n",
      "Mande uma mensagem para o chatbot:parar\n"
     ]
    }
   ],
   "source": [
    "while True:\n",
    "    mensagem = input(\"Mande uma mensagem para o chatbot:\")\n",
    "    if mensagem == \"parar\":\n",
    "        break\n",
    "    resposta = chatbot.get_response(mensagem)\n",
    "    print(resposta)"
   ]
  },
  {
   "cell_type": "code",
   "execution_count": null,
   "id": "e3a772f7",
   "metadata": {},
   "outputs": [],
   "source": []
  }
 ],
 "metadata": {
  "kernelspec": {
   "display_name": "Python 3",
   "language": "python",
   "name": "python3"
  },
  "language_info": {
   "codemirror_mode": {
    "name": "ipython",
    "version": 3
   },
   "file_extension": ".py",
   "mimetype": "text/x-python",
   "name": "python",
   "nbconvert_exporter": "python",
   "pygments_lexer": "ipython3",
   "version": "3.6.13"
  }
 },
 "nbformat": 4,
 "nbformat_minor": 5
}

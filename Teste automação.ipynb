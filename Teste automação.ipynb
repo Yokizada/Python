{
 "cells": [
  {
   "cell_type": "code",
   "execution_count": 14,
   "id": "ce2ae31a",
   "metadata": {},
   "outputs": [
    {
     "data": {
      "text/plain": [
       "'OK'"
      ]
     },
     "execution_count": 14,
     "metadata": {},
     "output_type": "execute_result"
    }
   ],
   "source": [
    "import pyautogui\n",
    "import time\n",
    "\n",
    "pyautogui.alert('Não mexa, o código irá iniciar')\n",
    "pyautogui.PAUSE = 0.5\n",
    "\n",
    "pyautogui.press(\"winleft\")\n",
    "pyautogui.write(\"brave\")\n",
    "pyautogui.press(\"enter\")\n",
    "time.sleep(2)\n",
    "#time serve pra pausar o código por uns segundos.\n",
    "pyautogui.write('https://drive.google.com/drive/my-drive')\n",
    "pyautogui.press('enter')\n",
    "time.sleep(0.5)\n",
    "pyautogui.hotkey('winleft','d')\n",
    "#comandos de mouse \n",
    "pyautogui.moveTo(1320,174)\n",
    "pyautogui.mouseDown()\n",
    "pyautogui.moveTo(721,544)\n",
    "pyautogui.hotkey('alt','tab')\n",
    "pyautogui.mouseUp()\n",
    "\n",
    "time.sleep(5)\n",
    "\n",
    "pyautogui.alert('O código já executou, pode usar o computador novamente')"
   ]
  },
  {
   "cell_type": "code",
   "execution_count": 12,
   "id": "5b46ef2f",
   "metadata": {},
   "outputs": [
    {
     "data": {
      "text/plain": [
       "Point(x=1319, y=178)"
      ]
     },
     "execution_count": 12,
     "metadata": {},
     "output_type": "execute_result"
    }
   ],
   "source": [
    "pyautogui.position()"
   ]
  },
  {
   "cell_type": "code",
   "execution_count": null,
   "id": "2fdb49b2",
   "metadata": {},
   "outputs": [],
   "source": []
  },
  {
   "cell_type": "code",
   "execution_count": null,
   "id": "a058bfa5",
   "metadata": {},
   "outputs": [],
   "source": []
  }
 ],
 "metadata": {
  "kernelspec": {
   "display_name": "Python 3 (ipykernel)",
   "language": "python",
   "name": "python3"
  },
  "language_info": {
   "codemirror_mode": {
    "name": "ipython",
    "version": 3
   },
   "file_extension": ".py",
   "mimetype": "text/x-python",
   "name": "python",
   "nbconvert_exporter": "python",
   "pygments_lexer": "ipython3",
   "version": "3.9.13"
  }
 },
 "nbformat": 4,
 "nbformat_minor": 5
}
